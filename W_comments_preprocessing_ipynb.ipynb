{
  "nbformat": 4,
  "nbformat_minor": 0,
  "metadata": {
    "colab": {
      "name": "W_comments_preprocessing.ipynb.ipynb",
      "provenance": [],
      "collapsed_sections": [
        "sQLcGxnzuI2D",
        "q_DkXz0kJbQ_",
        "nzNcUpypP-jD",
        "b5Jb8npc5LjU",
        "wkXfQ1ww5Zr7",
        "r3UylWGz5gki"
      ]
    },
    "kernelspec": {
      "name": "python3",
      "display_name": "Python 3"
    },
    "language_info": {
      "name": "python"
    }
  },
  "cells": [
    {
      "cell_type": "code",
      "metadata": {
        "colab": {
          "base_uri": "https://localhost:8080/"
        },
        "id": "sTgjNrL7GWu7",
        "outputId": "61075514-5d2e-4d4e-d0dc-43fc4b1e5fcf"
      },
      "source": [
        "import pandas as pd\n",
        "import numpy as np\n",
        "import os\n",
        "import matplotlib.pyplot as plt\n",
        "\n",
        "from os import listdir, mkdir, remove\n",
        "from os.path import isfile, join\n",
        "from collections import defaultdict\n",
        "\n",
        "import nltk\n",
        "nltk.download('stopwords')\n",
        "from nltk.corpus import stopwords\n",
        "sw = stopwords.words('russian')\n",
        "nltk.download('punkt')\n",
        "from nltk import word_tokenize\n",
        "\n",
        "!pip install pymorphy2\n",
        "from pymorphy2 import MorphAnalyzer\n",
        "morph=MorphAnalyzer()"
      ],
      "execution_count": null,
      "outputs": [
        {
          "output_type": "stream",
          "text": [
            "[nltk_data] Downloading package stopwords to /root/nltk_data...\n",
            "[nltk_data]   Unzipping corpora/stopwords.zip.\n",
            "[nltk_data] Downloading package punkt to /root/nltk_data...\n",
            "[nltk_data]   Unzipping tokenizers/punkt.zip.\n",
            "Collecting pymorphy2\n",
            "\u001b[?25l  Downloading https://files.pythonhosted.org/packages/07/57/b2ff2fae3376d4f3c697b9886b64a54b476e1a332c67eee9f88e7f1ae8c9/pymorphy2-0.9.1-py3-none-any.whl (55kB)\n",
            "\u001b[K     |████████████████████████████████| 61kB 5.6MB/s \n",
            "\u001b[?25hRequirement already satisfied: docopt>=0.6 in /usr/local/lib/python3.7/dist-packages (from pymorphy2) (0.6.2)\n",
            "Collecting pymorphy2-dicts-ru<3.0,>=2.4\n",
            "\u001b[?25l  Downloading https://files.pythonhosted.org/packages/3a/79/bea0021eeb7eeefde22ef9e96badf174068a2dd20264b9a378f2be1cdd9e/pymorphy2_dicts_ru-2.4.417127.4579844-py2.py3-none-any.whl (8.2MB)\n",
            "\u001b[K     |████████████████████████████████| 8.2MB 22.6MB/s \n",
            "\u001b[?25hCollecting dawg-python>=0.7.1\n",
            "  Downloading https://files.pythonhosted.org/packages/6a/84/ff1ce2071d4c650ec85745766c0047ccc3b5036f1d03559fd46bb38b5eeb/DAWG_Python-0.7.2-py2.py3-none-any.whl\n",
            "Installing collected packages: pymorphy2-dicts-ru, dawg-python, pymorphy2\n",
            "Successfully installed dawg-python-0.7.2 pymorphy2-0.9.1 pymorphy2-dicts-ru-2.4.417127.4579844\n"
          ],
          "name": "stdout"
        }
      ]
    },
    {
      "cell_type": "markdown",
      "metadata": {
        "id": "dvYkJhBs7x5e"
      },
      "source": [
        "Данные находятся по ссылке: https://drive.google.com/drive/folders/15O7a2MoL3-oZXHm8NTm4xhl4fsEjvQC5?usp=sharing"
      ]
    },
    {
      "cell_type": "markdown",
      "metadata": {
        "id": "MY3XOd_W4uj2"
      },
      "source": [
        "# Функции"
      ]
    },
    {
      "cell_type": "markdown",
      "metadata": {
        "id": "8gSeoc58772O"
      },
      "source": [
        "Данная программа предназначена для обработки данных, содержащих тексты и метаинформацию новостных публикаций некоторых региональных и центральных СМИ (полный список приведен в readme). </br> На первом этапе работы был сздан набор функций, предназначенныx для:\n",
        "* очищения строки слова от специальных символов (clean_word_symbols)\n",
        "* очищения строки слов отсимволов (clean_symbols)\n",
        "* лемматизации строки текста с помощью морфологического парсера PyMorphe2, удаления из нее стоп-слов на основе списка из библиотеки NLTK, очищения строки от слов короче двух символов (lemmatize)\n",
        "* только удаления стоп слов (clean_sw)\n",
        "* функция, объединяющая все вышеописанные, совершающая полную предобработку текста: возвращает соединенный пробелами чистый список лемм текста (transfor_text)."
      ]
    },
    {
      "cell_type": "code",
      "metadata": {
        "id": "4eF0ay1_HHxN"
      },
      "source": [
        "#удалить символы с границ слова\n",
        "def clean_word_symbols(text, symbols=None):\n",
        "  text.replace('\\xa0', ' ')\n",
        "  if symbols:\n",
        "    return text.strip(''.join(symbols))\n",
        "  else:\n",
        "    while text and not text[0].isalpha():\n",
        "      text = text.lstrip(text[0])\n",
        "    while text and not text[-1].isalpha():\n",
        "      text = text.rstrip(text[-1])\n",
        "    return text\n",
        "\n",
        "#удалить символы из строки\n",
        "def clean_symbols(text, symbols=None):\n",
        "  words = [clean_word_symbols(t, symbols=symbols) for t in text.split()]\n",
        "  return ' '.join(words)\n",
        "\n",
        "#лемматизировать текст и, если нужно, удалить стоп-слова: возвращает соединенный пробелом список лемм\n",
        "def lemmatize(text, stopwords=False):\n",
        "  if stopwords:\n",
        "    words = [word for word in word_tokenize(text.lower()) if word.isalpha() and not word in sw]\n",
        "    lems = [morph.parse(word)[0].normal_form for word in words if not word in sw]\n",
        "    return ' '.join([l for l in lems if len(l)>2])\n",
        "  else:\n",
        "    words = [word for word in word_tokenize(text.lower(), language='russian') if word.isalpha()]\n",
        "    lems = [morph.parse(word)[0].normal_form for word in words if not word in sw]\n",
        "    return ' '.join([l for l in lems if len(l)>2])\n",
        "\n",
        "#специальная ункция для удаления стоп-слов\n",
        "def clean_sw(text):\n",
        "  return ' '.join([word for word in text.split() if not word in sw])\n",
        "\n",
        "#предобработать текст: возвращает соединенный пробелом список лемм\n",
        "def transfrom_text(text, symbols=None, stopwords=True):\n",
        "  no_sym = clean_symbols(text, symbols=symbols)\n",
        "  lighter = clean_sw(no_sym)\n",
        "  lem = lemmatize(lighter, stopwords=stopwords)\n",
        "  return lem"
      ],
      "execution_count": null,
      "outputs": []
    },
    {
      "cell_type": "markdown",
      "metadata": {
        "id": "OLmwmeCG-uOV"
      },
      "source": [
        "Большая часть текстов коллеции задана в едином формате:</br>\n",
        "=====</br>\n",
        "ссылка на публикацию</br>\n",
        "название источника </br>\n",
        "дата публикации</br>\n",
        "автор</br>\n",
        "название статьи</br>\n",
        "текст статьи</br>\n",
        "Первая из следющих функций принимает на вход название файла и возвращает список, в котором каждым элементом является другой список, в котором в свою очередь хранится вся считанная информация, описанная выше. </br>\n",
        "Вторая функция с использованием первой по названию файла возвращает Датафрейм со всеми публикациями и  информацией о них.</br>\n",
        "Третья функция прирнимает на вход такой датафрейм, конкатенирует заголовок и текст (необходимые для исследования лингвистические данные) и производит их предобработку."
      ]
    },
    {
      "cell_type": "code",
      "metadata": {
        "id": "AZ9ndV43H-vL"
      },
      "source": [
        "#прочитать документ с корпусом публикаций правильно заданного источника\n",
        "def read_corpus(filename):\n",
        "  res = []\n",
        "  j=0\n",
        "  record = []\n",
        "  with open(filename) as f:\n",
        "      for l in f:\n",
        "          if l==\"=====\\n\":\n",
        "              j = 0\n",
        "              res.append(record)\n",
        "              record = []\n",
        "          elif j < 6:\n",
        "              j += 1\n",
        "              record.append(l.strip(\"\\n\"))\n",
        "          else:\n",
        "              record[-1] += l.strip(\"\\n\")\n",
        "  res.append(record)\n",
        "  return res\n",
        "\n",
        "#Создать из файла датафрем с информацией о нем\n",
        "def corpus_df(filename):\n",
        "  c = read_corpus(filename)\n",
        "  df = pd.DataFrame.from_records(c[1:], columns=[\"link\", \"source\", \"date\", \"author\", \"title\", \"text\"])\n",
        "  return df\n",
        "\n",
        "#предобработать текстовую информацию и вернуть релевантные для работы данные: текст и дату публикации\n",
        "def transform_corpus(df, symbols=None, stopwords=True, date=True):\n",
        "  if date:\n",
        "    df_new = pd.DataFrame(columns=['date', 'text'])\n",
        "    df_new['date'] = df['date'].copy()\n",
        "  else:\n",
        "    df_new = pd.DataFrame(columns=['date', 'text'])\n",
        "  if 'title' and 'text' in df.columns:\n",
        "    df_new['title_text'] = df.apply(lambda x: ' '.join([x.title, x.text]) if x.title and x.text else '', axis=1)\n",
        "    df_new['text'] = df_new['title_text'].apply(lambda x: transfrom_text(x, symbols=symbols, stopwords=stopwords))\n",
        "  else:\n",
        "    df_new['text'] = df['text'].apply(lambda x: transfrom_text(x, symbols=symbols, stopwords=stopwords))\n",
        "  return df_new[['text', 'date']]"
      ],
      "execution_count": null,
      "outputs": []
    },
    {
      "cell_type": "markdown",
      "metadata": {
        "id": "jKe_bTCHAm1K"
      },
      "source": [
        "Для того чтобы произвести разведочный анализ данных, необходимо собрать информацию о имеющихся документах: \n",
        "* к какой коллекции они принадлежат: центральной или региональной\n",
        "* название источника, откуда была взята публикация\n",
        "* количество документов из этого источника, которым мы распологаем\n",
        "* количество уникальных лемм в документах корпуса\n",
        "* средняя длина документа в токенах\n",
        "* дата первой и последней имеющейсяв нашем распоряжении публикации в источнике"
      ]
    },
    {
      "cell_type": "code",
      "metadata": {
        "id": "_Hy7Q4PSfFa9"
      },
      "source": [
        "info_df = pd.DataFrame(columns=['collection', 'source', 'n_docs', 'n_unique_tokens', 'avg_doc_len', 'date_first', 'date_last'])\n",
        "\n",
        "def get_n_docs(df):\n",
        "  return df.shape[0]\n",
        "\n",
        "def get_n_unique_tokens(df):\n",
        "  frequency = defaultdict(int)\n",
        "  for text in df['text'].to_list():\n",
        "    for token in str(text).split():\n",
        "      frequency[token] += 1\n",
        "  return len(frequency)\n",
        "\n",
        "def get_mean_doc_len(df):\n",
        "  lens = [len(str(text).split()) for text in df['text'].to_list()]\n",
        "  return np.mean(lens)\n",
        "\n",
        "def get_dates(df):\n",
        "  dates = df['date'].to_list()\n",
        "  return dates[0], dates[-2]\n",
        "\n",
        "def get_info(df):\n",
        "  info = []\n",
        "  info.append(get_n_docs(df))\n",
        "  info.append(get_n_unique_tokens(df))\n",
        "  info.append(get_mean_doc_len(df))\n",
        "  info.extend(get_dates(df))\n",
        "  return info"
      ],
      "execution_count": null,
      "outputs": []
    },
    {
      "cell_type": "markdown",
      "metadata": {
        "id": "sQLcGxnzuI2D"
      },
      "source": [
        "# Обработка региональных корпусов в правильном формате"
      ]
    },
    {
      "cell_type": "markdown",
      "metadata": {
        "id": "qrgqWQbuBrmk"
      },
      "source": [
        "Следующие функции производят сбор и сохранение обработанных корпусов в новой директории:"
      ]
    },
    {
      "cell_type": "code",
      "metadata": {
        "id": "boY-RAPxIc6C"
      },
      "source": [
        "def one_corpus(filename, path, newdir, info_df=info_df):\n",
        "  full_path = join(path, filename)\n",
        "\n",
        "  df1 = corpus_df(full_path)\n",
        "  df1 = transform_corpus(df1)\n",
        "  new_name = filename[:-4] + '.csv'\n",
        "  new_path = join(path, newdir, new_name)\n",
        "  df1.to_csv(new_path, index=False)\n",
        "\n",
        "\n",
        "def all_corpora(path, newdir):\n",
        "  new_path = join(path, newdir)\n",
        "  os.mkdir(new_path)\n",
        "  files = [f for f in listdir(path) if isfile(join(path, f))]\n",
        "  for f in files:\n",
        "    one_corpus(f, path, newdir)"
      ],
      "execution_count": null,
      "outputs": []
    },
    {
      "cell_type": "markdown",
      "metadata": {
        "id": "BB2xE6nzB6eq"
      },
      "source": [
        "СОздаем новую директорию внути той, где хранятся данные регионального корпуса, и созраняем туда таблицы с обработанными данными."
      ]
    },
    {
      "cell_type": "code",
      "metadata": {
        "id": "dTmhHGY5MgE7"
      },
      "source": [
        "path = \"/preprocessing_data/regional_corpora\"\n",
        "newdir = \"lem_corpora\"\n",
        "\n",
        "all_corpora(path, newdir)"
      ],
      "execution_count": 1,
      "outputs": []
    },
    {
      "cell_type": "markdown",
      "metadata": {
        "id": "q_DkXz0kJbQ_"
      },
      "source": [
        "# Обработка корпусов нетрадиционного формата"
      ]
    },
    {
      "cell_type": "markdown",
      "metadata": {
        "id": "-Jkl2Q81CMvK"
      },
      "source": [
        "Следующие функции предназначены для обработки корпусов, заданных в нетрадиционном формате, и полностью повторяют этапы обработки для остального корпуса."
      ]
    },
    {
      "cell_type": "code",
      "metadata": {
        "id": "9qjKDeP_JGp4"
      },
      "source": [
        "old_path = join(path, 'articles_Вечерний_Волгоград.txt')\n",
        "new_path = join(path, 'articles_Вечерний_Волгоград1.txt')\n",
        "with open(old_path) as f:\n",
        "  text = f.read()\n",
        "text = text.replace('######', '=====')\n",
        "with open(new_path, 'w') as f:\n",
        "  f.write(text)\n",
        "\n",
        "vv = corpus_df(new_path)\n",
        "vv = transform_corpus(vv)\n",
        "\n",
        "csv_path = join(path, newdir, 'articles_Вечерний_Волгоград.csv')\n",
        "vv.to_csv(csv_path, index=False)\n",
        "remove(new_path)"
      ],
      "execution_count": null,
      "outputs": []
    },
    {
      "cell_type": "code",
      "metadata": {
        "id": "jGo3RYrvK9G6"
      },
      "source": [
        "old_path = join(path, 'articles_Светлый_Путь.txt')\n",
        "new_path = join(path, 'articles_Светлый_Путь1.txt')\n",
        "with open(old_path) as f:\n",
        "  text = f.read()\n",
        "text = text.replace('======', '=====')\n",
        "with open(new_path, 'w') as f:\n",
        "  f.write(text)\n",
        "\n",
        "put = corpus_df(new_path)\n",
        "put = transform_corpus(put)\n",
        "\n",
        "csv_path = join(path, newdir, 'articles_Светлый_Путь.csv')\n",
        "put.to_csv(csv_path, index=False)\n",
        "remove(new_path)"
      ],
      "execution_count": null,
      "outputs": []
    },
    {
      "cell_type": "code",
      "metadata": {
        "id": "eNME00D3NZfk"
      },
      "source": [
        "full_path = join(path, 'articles_Сафоновская_Правда.txt')\n",
        "\n",
        "def read_corpus1(filename):\n",
        "  res = []\n",
        "  j=0\n",
        "  record = []\n",
        "  with open(filename) as f:\n",
        "    for l in f:\n",
        "      if l.lstrip()==\"=====\\n\":\n",
        "        j = 0\n",
        "        res.append(record)\n",
        "        record = []\n",
        "      elif j == 0 or j == 3 or j == 2:\n",
        "        j += 1\n",
        "        record.append(l.strip(\"\\n\"))\n",
        "      elif j == 1:\n",
        "        j += 1\n",
        "        record.extend(l.strip(\"\\n\").split(\"\\т\"))\n",
        "      else:\n",
        "        record[-1] += l.strip(\"\\n\")\n",
        "  res.append(record)\n",
        "  return res\n",
        "\n",
        "def corpus_df1(filename):\n",
        "  c = read_corpus1(filename)\n",
        "  df = pd.DataFrame.from_records(c[1:], columns=[\"link\", \"source\", \"date\", \"title\", \"text\"])\n",
        "  return df\n",
        "\n",
        "sp = corpus_df1(full_path)\n",
        "sp = transform_corpus(sp)\n",
        "\n",
        "csv_path = join(path, newdir, 'articles_Сафоновская_Правда.csv')\n",
        "sp.to_csv(csv_path, index=False)"
      ],
      "execution_count": null,
      "outputs": []
    },
    {
      "cell_type": "code",
      "metadata": {
        "id": "nJDSYc8zOZjH"
      },
      "source": [
        "full_path = join(path, 'articles_Курские_Городские_Известия.txt')\n",
        "\n",
        "def read_corpus2(filename):\n",
        "  res = []\n",
        "  j=0\n",
        "  record = []\n",
        "  with open(filename) as f:\n",
        "      for l in f:\n",
        "          if l==\"=====\\n\":\n",
        "              j = 0\n",
        "              res.append(record)\n",
        "              record = []\n",
        "          elif j < 5:\n",
        "              j += 1\n",
        "              record.append(l.strip(\"\\n\")\n",
        "          else:\n",
        "              record[-1] += l.strip(\"\\n\")\n",
        "  res.append(record)\n",
        "  return res\n",
        "\n",
        "def corpus_df2(filename):\n",
        "  c = read_corpus2(filename)\n",
        "  df = pd.DataFrame.from_records(c[1:], columns=[\"link\", \"source\", \"date\", \"title\", \"text\"])\n",
        "  return df\n",
        "\n",
        "kgi = corpus_df2(full_path)\n",
        "kgi = transform_corpus(kgi)\n",
        "\n",
        "csv_path = join(path, newdir, 'articles_Курские_Городские_Известия.csv')\n",
        "kgi.to_csv(csv_path, index=False)"
      ],
      "execution_count": 1,
      "outputs": []
    },
    {
      "cell_type": "markdown",
      "metadata": {
        "id": "M_FTT0hNPE0f"
      },
      "source": [
        "# Полный корпус региональных СМИ"
      ]
    },
    {
      "cell_type": "markdown",
      "metadata": {
        "id": "qNXKbpKtCpXM"
      },
      "source": [
        "В следующей части программы производится объединение полученных на предыдущих этапах корпусов источников в один большой корпус коллекции, а также сбор информации об источниках в датафрейм info_df. "
      ]
    },
    {
      "cell_type": "code",
      "metadata": {
        "id": "n9p2hzCwPJeo"
      },
      "source": [
        "path = \"preprocessing_data/regional_corpora\"\n",
        "newdir = \"lem_corpora\"\n",
        "path = join(path, newdir)\n",
        "files = [f for f in listdir(path) if isfile(join(path, f))]\n",
        "\n",
        "reg_df = pd.DataFrame(columns=['text', 'date', 'source'])\n",
        "for f in files:\n",
        "  full_path = join(path, f)\n",
        "  df = pd.read_csv(full_path).dropna(subset=['text'])\n",
        "  df['text'] == df['text'].apply(lambda x: ' '.join([w for w in str(x).split() if len(w)>2]))\n",
        "  source = f[9:-4]\n",
        "  info = get_info(df)\n",
        "  info_record = pd.DataFrame({'collection':'regional', \n",
        "                              'source': source,\n",
        "                              'n_docs': info[0],\n",
        "                              'n_unique_tokens': info[1],\n",
        "                              'avg_doc_len':info[2],\n",
        "                              'date_first': info[3],\n",
        "                              'date_last': info[4]}, \n",
        "                             index=[0])\n",
        "  info_df = info_df.append(info_record, ignore_index=True)\n",
        "  df['source'] = source\n",
        "  reg_df = reg_df.append(df, ignore_index=True)"
      ],
      "execution_count": null,
      "outputs": []
    },
    {
      "cell_type": "code",
      "metadata": {
        "id": "Ddwxesr5jJml",
        "colab": {
          "base_uri": "https://localhost:8080/"
        },
        "outputId": "154eee02-739a-4c87-ce2b-8f97094de93d"
      },
      "source": [
        "reg_df.shape"
      ],
      "execution_count": null,
      "outputs": [
        {
          "output_type": "execute_result",
          "data": {
            "text/plain": [
              "(275082, 3)"
            ]
          },
          "metadata": {
            "tags": []
          },
          "execution_count": 7
        }
      ]
    },
    {
      "cell_type": "code",
      "metadata": {
        "id": "leIxL-HbQNp6"
      },
      "source": [
        "reg_df.to_csv(join(path, \"01_articles_региональная_коллекция.csv\"), encoding='utf-8-sig')"
      ],
      "execution_count": null,
      "outputs": []
    },
    {
      "cell_type": "markdown",
      "metadata": {
        "id": "nzNcUpypP-jD"
      },
      "source": [
        "# Обработка центральных СМИ"
      ]
    },
    {
      "cell_type": "markdown",
      "metadata": {
        "id": "0TaNlPkSDLVZ"
      },
      "source": [
        "Корпуса центральных СМИ не имеют общей структуры, так что к их обработке пришлось подойти индивидуально, однаок этапы обработки повторяют те6 что были применены к региональному корпусу."
      ]
    },
    {
      "cell_type": "code",
      "metadata": {
        "id": "W5VTQHOtQEl4"
      },
      "source": [
        "path = \"preprocessing_data/central_corpora\"\n",
        "newdir = \"lem_corpora1\"\n",
        "new_path = join(path, newdir)\n",
        "#os.mkdir(new_path)"
      ],
      "execution_count": null,
      "outputs": []
    },
    {
      "cell_type": "markdown",
      "metadata": {
        "id": "b5Jb8npc5LjU"
      },
      "source": [
        "## n+1"
      ]
    },
    {
      "cell_type": "code",
      "metadata": {
        "id": "Yc3G3Ig9QPZy"
      },
      "source": [
        "def read_nplus1(filename):\n",
        "  res = []\n",
        "  j=0\n",
        "  record = []\n",
        "  with open(filename) as f:\n",
        "      for l in f:\n",
        "          if l==\"----------\\n\":\n",
        "              j = 0\n",
        "              res.append(record)\n",
        "              record = []\n",
        "          elif j == 0 or j == 3:\n",
        "            j += 1\n",
        "          elif j == 1 or j == 2 or j == 4:\n",
        "              j += 1\n",
        "              record.append(l.strip(\"\\n\").replace('\\xa0', ' '))\n",
        "          else:\n",
        "              record[-1] += l.strip(\"\\n\").replace('\\xa0', ' ')\n",
        "  res.append(record)\n",
        "  return res\n",
        "\n",
        "def nplus1_df(filename):\n",
        "  c = read_nplus1(filename)\n",
        "  df = pd.DataFrame.from_records(c[1:], columns=[\"title\", \"date\", \"text\"])\n",
        "  return df"
      ],
      "execution_count": null,
      "outputs": []
    },
    {
      "cell_type": "code",
      "metadata": {
        "id": "W_zTpyl1dr0o"
      },
      "source": [
        "nplus1 = 'nplus1-2018.txt'\n",
        "filename = join(path, nplus1)\n",
        "df = nplus1_df(filename)\n",
        "df = transform_corpus(df)\n",
        "\n",
        "csv_path = join(path, newdir, nplus1.replace('txt', 'csv'))\n",
        "df.to_csv(csv_path, index=False)"
      ],
      "execution_count": null,
      "outputs": []
    },
    {
      "cell_type": "markdown",
      "metadata": {
        "id": "wkXfQ1ww5Zr7"
      },
      "source": [
        "## gazeta.ru"
      ]
    },
    {
      "cell_type": "code",
      "metadata": {
        "id": "_uhMLD9gV553"
      },
      "source": [
        "def read_gazeta(filename):\n",
        "  res = []\n",
        "  j=0\n",
        "  record = []\n",
        "  with open(filename) as f:\n",
        "      for l in f:\n",
        "          if l==\"----------\\n\":\n",
        "              j = 0\n",
        "              res.append(record)\n",
        "              record = []\n",
        "          elif j < 3:\n",
        "              j += 1\n",
        "              record.append(l.strip(\"\\n\").replace('\\xa0', ' '))\n",
        "          else:\n",
        "              record[-1] += l.strip(\"\\n\").replace('\\xa0', ' ')\n",
        "  res.append(record)\n",
        "  return res\n",
        "\n",
        "def gazeta_df(filename):\n",
        "  c = read_gazeta(filename)\n",
        "  df = pd.DataFrame.from_records(c[1:], columns=[\"title\", \"date\", \"text\"])\n",
        "  return df"
      ],
      "execution_count": null,
      "outputs": []
    },
    {
      "cell_type": "code",
      "metadata": {
        "id": "PvldIBpKWVHT"
      },
      "source": [
        "gazeta = 'gazeta_ru-2018.txt'\n",
        "filename = join(path, gazeta)\n",
        "df = gazeta_df(filename)\n",
        "df = transform_corpus(df)\n",
        "\n",
        "csv_path = join(path, newdir, gazeta.replace('txt', 'csv'))\n",
        "df.to_csv(csv_path, index=False)"
      ],
      "execution_count": null,
      "outputs": []
    },
    {
      "cell_type": "markdown",
      "metadata": {
        "id": "r3UylWGz5gki"
      },
      "source": [
        "## rbc"
      ]
    },
    {
      "cell_type": "code",
      "metadata": {
        "id": "PXhsYKp5W_xy"
      },
      "source": [
        "def read_rbc(filename):\n",
        "  res = []\n",
        "  j=0\n",
        "  record = []\n",
        "  with open(filename) as f:\n",
        "    for l in f:\n",
        "      if l==\"----------\\n\":\n",
        "          j = 0\n",
        "          res.append(record)\n",
        "          record = []\n",
        "      elif l.startswith(\"        Теги:\"):\n",
        "        j = -1\n",
        "      elif j == 0:\n",
        "        j += 1\n",
        "      elif j == 1 or j == 2:\n",
        "          j += 1\n",
        "          record.append(l.strip(\"\\n\").replace('\\xa0', ' '))\n",
        "      elif j == 3:\n",
        "          record[-1] += l.strip(\"\\n\").replace('\\xa0', ' ')\n",
        "  res.append(record)\n",
        "  return res\n",
        "\n",
        "def rbc_df(filename):\n",
        "  c = read_rbc(filename)\n",
        "  df = pd.DataFrame.from_records(c[1:], columns=[\"title\", \"text\"])\n",
        "  return df"
      ],
      "execution_count": null,
      "outputs": []
    },
    {
      "cell_type": "code",
      "metadata": {
        "id": "kzcNngtaYma3"
      },
      "source": [
        "rbc2 = 'rbc_2018_2.txt'\n",
        "filename = join(path, rbc2)\n",
        "df = rbc_df(filename)\n",
        "df = transform_corpus(df, date=False)\n",
        "\n",
        "csv_path = join(path, newdir, rbc2.replace('txt', 'csv'))\n",
        "df.to_csv(csv_path, index=False)"
      ],
      "execution_count": null,
      "outputs": []
    },
    {
      "cell_type": "markdown",
      "metadata": {
        "id": "MWv2QPQOjRtN"
      },
      "source": [
        "# Полный корпус центральных СМИ"
      ]
    },
    {
      "cell_type": "markdown",
      "metadata": {
        "id": "qm94UZH3Dl7q"
      },
      "source": [
        "Создание таблицы с объединенным корпусом коллекци центральных СМИ и сбор инфомации о корпусах."
      ]
    },
    {
      "cell_type": "code",
      "metadata": {
        "id": "r_JJJRqSjRRh",
        "colab": {
          "base_uri": "https://localhost:8080/"
        },
        "outputId": "52736059-ac7a-4faf-987f-eb2000d8461e"
      },
      "source": [
        "path = \"preprocessing_data/central_corpora\"\n",
        "newdir = \"lem_corpora\"\n",
        "path = join(path, newdir)\n",
        "files = [f for f in listdir(path) if isfile(join(path, f))]\n",
        "\n",
        "centre_df = pd.DataFrame(columns=['text', 'date', 'source'])\n",
        "for f in files:\n",
        "  full_path = join(path, f)\n",
        "  df = pd.read_csv(full_path).dropna(subset=['text'])\n",
        "  df['text'] = df['text'].apply(lambda x: ' '.join([w for w in x.split() if len(w)>2]))\n",
        "  source = f[:-4]\n",
        "  info = get_info(df)\n",
        "  info_record = pd.DataFrame({'collection':'central', \n",
        "                              'source': source,\n",
        "                              'n_docs': info[0],\n",
        "                              'n_unique_tokens': info[1],\n",
        "                              'avg_doc_len':info[2],\n",
        "                              'date_first': info[3],\n",
        "                              'date_last': info[4]}, \n",
        "                             index=[0])\n",
        "  info_df = info_df.append(info_record, ignore_index=True)\n",
        "  df['source'] = source\n",
        "  centre_df = centre_df.append(df, ignore_index=True)"
      ],
      "execution_count": null,
      "outputs": [
        {
          "output_type": "stream",
          "text": [
            "/usr/local/lib/python3.7/dist-packages/IPython/core/interactiveshell.py:2718: DtypeWarning: Columns (2) have mixed types.Specify dtype option on import or set low_memory=False.\n",
            "  interactivity=interactivity, compiler=compiler, result=result)\n"
          ],
          "name": "stderr"
        }
      ]
    },
    {
      "cell_type": "code",
      "metadata": {
        "id": "Tp3SYXYmkMi9",
        "colab": {
          "base_uri": "https://localhost:8080/"
        },
        "outputId": "545f0072-1c10-4cb0-f5f0-bacbed59d22e"
      },
      "source": [
        "centre_df.shape"
      ],
      "execution_count": null,
      "outputs": [
        {
          "output_type": "execute_result",
          "data": {
            "text/plain": [
              "(201003, 3)"
            ]
          },
          "metadata": {
            "tags": []
          },
          "execution_count": 13
        }
      ]
    },
    {
      "cell_type": "code",
      "metadata": {
        "id": "QbPJBMopkO0K"
      },
      "source": [
        "centre_df.to_csv(join(path, \"01_articles_центральная_коллекция.csv\"), encoding='utf-8-sig')"
      ],
      "execution_count": null,
      "outputs": []
    },
    {
      "cell_type": "markdown",
      "metadata": {
        "id": "upttBo2mam32"
      },
      "source": [
        "# Информация о коллекциях"
      ]
    },
    {
      "cell_type": "markdown",
      "metadata": {
        "id": "-dW6GvoEDz65"
      },
      "source": [
        "Проведем небольшое исследование имеющихся у нас данных."
      ]
    },
    {
      "cell_type": "code",
      "metadata": {
        "colab": {
          "base_uri": "https://localhost:8080/",
          "height": 857
        },
        "id": "_2vnzi9FZ05h",
        "outputId": "01e82de8-f41c-4df9-b20d-fdbcd33a2678"
      },
      "source": [
        "info_df"
      ],
      "execution_count": null,
      "outputs": [
        {
          "output_type": "execute_result",
          "data": {
            "text/html": [
              "<div>\n",
              "<style scoped>\n",
              "    .dataframe tbody tr th:only-of-type {\n",
              "        vertical-align: middle;\n",
              "    }\n",
              "\n",
              "    .dataframe tbody tr th {\n",
              "        vertical-align: top;\n",
              "    }\n",
              "\n",
              "    .dataframe thead th {\n",
              "        text-align: right;\n",
              "    }\n",
              "</style>\n",
              "<table border=\"1\" class=\"dataframe\">\n",
              "  <thead>\n",
              "    <tr style=\"text-align: right;\">\n",
              "      <th></th>\n",
              "      <th>collection</th>\n",
              "      <th>source</th>\n",
              "      <th>n_docs</th>\n",
              "      <th>n_unique_tokens</th>\n",
              "      <th>avg_doc_len</th>\n",
              "      <th>date_first</th>\n",
              "      <th>date_last</th>\n",
              "    </tr>\n",
              "  </thead>\n",
              "  <tbody>\n",
              "    <tr>\n",
              "      <th>0</th>\n",
              "      <td>regional</td>\n",
              "      <td>рассвет-якшур-бодья</td>\n",
              "      <td>2375</td>\n",
              "      <td>23986</td>\n",
              "      <td>213.685895</td>\n",
              "      <td>30.09.2020</td>\n",
              "      <td>24.02.2015</td>\n",
              "    </tr>\n",
              "    <tr>\n",
              "      <th>1</th>\n",
              "      <td>regional</td>\n",
              "      <td>Советская Адыгея</td>\n",
              "      <td>318</td>\n",
              "      <td>7360</td>\n",
              "      <td>168.182390</td>\n",
              "      <td>2020-10-07</td>\n",
              "      <td>2020-07-27</td>\n",
              "    </tr>\n",
              "    <tr>\n",
              "      <th>2</th>\n",
              "      <td>regional</td>\n",
              "      <td>Газета_Юга</td>\n",
              "      <td>9022</td>\n",
              "      <td>55739</td>\n",
              "      <td>206.276768</td>\n",
              "      <td>10 января 2019</td>\n",
              "      <td>26 декабря 2002</td>\n",
              "    </tr>\n",
              "    <tr>\n",
              "      <th>3</th>\n",
              "      <td>regional</td>\n",
              "      <td>Молодой_Коммунар</td>\n",
              "      <td>551</td>\n",
              "      <td>7240</td>\n",
              "      <td>99.431942</td>\n",
              "      <td>3 года назад</td>\n",
              "      <td>5 лет назад</td>\n",
              "    </tr>\n",
              "    <tr>\n",
              "      <th>4</th>\n",
              "      <td>regional</td>\n",
              "      <td>Волгоградская_Правда</td>\n",
              "      <td>79928</td>\n",
              "      <td>159873</td>\n",
              "      <td>176.878428</td>\n",
              "      <td>13.10.2020</td>\n",
              "      <td>13.10.2020</td>\n",
              "    </tr>\n",
              "    <tr>\n",
              "      <th>5</th>\n",
              "      <td>regional</td>\n",
              "      <td>Вперед</td>\n",
              "      <td>4396</td>\n",
              "      <td>34208</td>\n",
              "      <td>235.225205</td>\n",
              "      <td>Дата: 05.10.2020</td>\n",
              "      <td>Дата: 25.08.2017</td>\n",
              "    </tr>\n",
              "    <tr>\n",
              "      <th>6</th>\n",
              "      <td>regional</td>\n",
              "      <td>Авангард</td>\n",
              "      <td>3380</td>\n",
              "      <td>35271</td>\n",
              "      <td>272.137278</td>\n",
              "      <td>30.11.2010</td>\n",
              "      <td>01.09.2015</td>\n",
              "    </tr>\n",
              "    <tr>\n",
              "      <th>7</th>\n",
              "      <td>regional</td>\n",
              "      <td>Красное_Прикамье</td>\n",
              "      <td>4432</td>\n",
              "      <td>38848</td>\n",
              "      <td>186.245036</td>\n",
              "      <td>11-10-2018</td>\n",
              "      <td>6-01-2010</td>\n",
              "    </tr>\n",
              "    <tr>\n",
              "      <th>8</th>\n",
              "      <td>regional</td>\n",
              "      <td>Сельская правда</td>\n",
              "      <td>14506</td>\n",
              "      <td>52114</td>\n",
              "      <td>226.485592</td>\n",
              "      <td>22.05.2018</td>\n",
              "      <td>13.07.2010</td>\n",
              "    </tr>\n",
              "    <tr>\n",
              "      <th>9</th>\n",
              "      <td>regional</td>\n",
              "      <td>Вечерний_Челябинск</td>\n",
              "      <td>19986</td>\n",
              "      <td>56353</td>\n",
              "      <td>131.509407</td>\n",
              "      <td>16.10.2020</td>\n",
              "      <td>дата отсутствует</td>\n",
              "    </tr>\n",
              "    <tr>\n",
              "      <th>10</th>\n",
              "      <td>regional</td>\n",
              "      <td>Кабардино-Балкарская_Правда</td>\n",
              "      <td>5496</td>\n",
              "      <td>39611</td>\n",
              "      <td>194.663028</td>\n",
              "      <td>2020-10-16</td>\n",
              "      <td>2018-11-28</td>\n",
              "    </tr>\n",
              "    <tr>\n",
              "      <th>11</th>\n",
              "      <td>regional</td>\n",
              "      <td>Риск</td>\n",
              "      <td>6296</td>\n",
              "      <td>72869</td>\n",
              "      <td>524.876588</td>\n",
              "      <td>14 августа 2002</td>\n",
              "      <td>4 августа 2015</td>\n",
              "    </tr>\n",
              "    <tr>\n",
              "      <th>12</th>\n",
              "      <td>regional</td>\n",
              "      <td>Вестник_района</td>\n",
              "      <td>3145</td>\n",
              "      <td>16424</td>\n",
              "      <td>74.802544</td>\n",
              "      <td>22.03.2012</td>\n",
              "      <td>05.04.2012</td>\n",
              "    </tr>\n",
              "    <tr>\n",
              "      <th>13</th>\n",
              "      <td>regional</td>\n",
              "      <td>Благодарненские_вести</td>\n",
              "      <td>3087</td>\n",
              "      <td>29932</td>\n",
              "      <td>263.563654</td>\n",
              "      <td>09.10.2020</td>\n",
              "      <td>07.12.2013</td>\n",
              "    </tr>\n",
              "    <tr>\n",
              "      <th>14</th>\n",
              "      <td>regional</td>\n",
              "      <td>Вечерний_Ставрополь</td>\n",
              "      <td>234</td>\n",
              "      <td>14015</td>\n",
              "      <td>394.747863</td>\n",
              "      <td>19 Окт. 2020  20:34</td>\n",
              "      <td>05 Июнь 2019  16:11</td>\n",
              "    </tr>\n",
              "    <tr>\n",
              "      <th>15</th>\n",
              "      <td>regional</td>\n",
              "      <td>Чебоксарские_новости</td>\n",
              "      <td>16895</td>\n",
              "      <td>55492</td>\n",
              "      <td>218.659781</td>\n",
              "      <td>22.08.2017</td>\n",
              "      <td>24.12.2013</td>\n",
              "    </tr>\n",
              "    <tr>\n",
              "      <th>16</th>\n",
              "      <td>regional</td>\n",
              "      <td>Починковский_район</td>\n",
              "      <td>1939</td>\n",
              "      <td>18810</td>\n",
              "      <td>168.720990</td>\n",
              "      <td>15.10.2020</td>\n",
              "      <td>30.05.2012</td>\n",
              "    </tr>\n",
              "    <tr>\n",
              "      <th>17</th>\n",
              "      <td>regional</td>\n",
              "      <td>Гжатский_вестник</td>\n",
              "      <td>303</td>\n",
              "      <td>11313</td>\n",
              "      <td>262.534653</td>\n",
              "      <td>23.03.2020</td>\n",
              "      <td>19.02.2015</td>\n",
              "    </tr>\n",
              "    <tr>\n",
              "      <th>18</th>\n",
              "      <td>regional</td>\n",
              "      <td>Курские_Городские_Известия</td>\n",
              "      <td>9917</td>\n",
              "      <td>24637</td>\n",
              "      <td>58.837653</td>\n",
              "      <td>15 октября 2020 (16:51)</td>\n",
              "      <td>10 марта 2016 (13:52)</td>\n",
              "    </tr>\n",
              "    <tr>\n",
              "      <th>19</th>\n",
              "      <td>regional</td>\n",
              "      <td>Молодой_Коммунар_Тула</td>\n",
              "      <td>42881</td>\n",
              "      <td>101243</td>\n",
              "      <td>140.494298</td>\n",
              "      <td>19.10.2020</td>\n",
              "      <td>06.01.2016</td>\n",
              "    </tr>\n",
              "    <tr>\n",
              "      <th>20</th>\n",
              "      <td>regional</td>\n",
              "      <td>Вечерний_Волгоград</td>\n",
              "      <td>39704</td>\n",
              "      <td>74842</td>\n",
              "      <td>115.947713</td>\n",
              "      <td>Дата: 13.10.2020</td>\n",
              "      <td>Дата: 8.04.2011</td>\n",
              "    </tr>\n",
              "    <tr>\n",
              "      <th>21</th>\n",
              "      <td>regional</td>\n",
              "      <td>Светлый_Путь</td>\n",
              "      <td>1740</td>\n",
              "      <td>24450</td>\n",
              "      <td>261.228736</td>\n",
              "      <td>26.11.2010</td>\n",
              "      <td>08.10.2020</td>\n",
              "    </tr>\n",
              "    <tr>\n",
              "      <th>22</th>\n",
              "      <td>regional</td>\n",
              "      <td>Сафоновская_Правда</td>\n",
              "      <td>1919</td>\n",
              "      <td>25934</td>\n",
              "      <td>133.362168</td>\n",
              "      <td>13.10.2020</td>\n",
              "      <td>22.07.2013</td>\n",
              "    </tr>\n",
              "    <tr>\n",
              "      <th>23</th>\n",
              "      <td>regional</td>\n",
              "      <td>Можгинские_Вести</td>\n",
              "      <td>2632</td>\n",
              "      <td>26761</td>\n",
              "      <td>229.516337</td>\n",
              "      <td>Date: 16.04.2020</td>\n",
              "      <td>Date: 13.09.2019</td>\n",
              "    </tr>\n",
              "    <tr>\n",
              "      <th>24</th>\n",
              "      <td>central</td>\n",
              "      <td>nplus1-2018</td>\n",
              "      <td>7949</td>\n",
              "      <td>104801</td>\n",
              "      <td>219.936470</td>\n",
              "      <td>03 Янв. 2017 Владимир Королев</td>\n",
              "      <td>31 Дек. 2018 Кристина Уласович</td>\n",
              "    </tr>\n",
              "    <tr>\n",
              "      <th>25</th>\n",
              "      <td>central</td>\n",
              "      <td>gazeta_ru-2018</td>\n",
              "      <td>22174</td>\n",
              "      <td>107475</td>\n",
              "      <td>266.850455</td>\n",
              "      <td>30.12.2018, 23:36</td>\n",
              "      <td>31.12.2016, 15:44</td>\n",
              "    </tr>\n",
              "    <tr>\n",
              "      <th>26</th>\n",
              "      <td>central</td>\n",
              "      <td>rbc_2018_2</td>\n",
              "      <td>170880</td>\n",
              "      <td>184073</td>\n",
              "      <td>166.991011</td>\n",
              "      <td>NaN</td>\n",
              "      <td>NaN</td>\n",
              "    </tr>\n",
              "  </tbody>\n",
              "</table>\n",
              "</div>"
            ],
            "text/plain": [
              "   collection  ...                       date_last\n",
              "0    regional  ...                      24.02.2015\n",
              "1    regional  ...                      2020-07-27\n",
              "2    regional  ...                 26 декабря 2002\n",
              "3    regional  ...                     5 лет назад\n",
              "4    regional  ...                      13.10.2020\n",
              "5    regional  ...                Дата: 25.08.2017\n",
              "6    regional  ...                      01.09.2015\n",
              "7    regional  ...                       6-01-2010\n",
              "8    regional  ...                      13.07.2010\n",
              "9    regional  ...                дата отсутствует\n",
              "10   regional  ...                      2018-11-28\n",
              "11   regional  ...                  4 августа 2015\n",
              "12   regional  ...                      05.04.2012\n",
              "13   regional  ...                      07.12.2013\n",
              "14   regional  ...             05 Июнь 2019  16:11\n",
              "15   regional  ...                      24.12.2013\n",
              "16   regional  ...                      30.05.2012\n",
              "17   regional  ...                      19.02.2015\n",
              "18   regional  ...           10 марта 2016 (13:52)\n",
              "19   regional  ...                      06.01.2016\n",
              "20   regional  ...                 Дата: 8.04.2011\n",
              "21   regional  ...                      08.10.2020\n",
              "22   regional  ...                      22.07.2013\n",
              "23   regional  ...                Date: 13.09.2019\n",
              "24    central  ...  31 Дек. 2018 Кристина Уласович\n",
              "25    central  ...               31.12.2016, 15:44\n",
              "26    central  ...                             NaN\n",
              "\n",
              "[27 rows x 7 columns]"
            ]
          },
          "metadata": {
            "tags": []
          },
          "execution_count": 15
        }
      ]
    },
    {
      "cell_type": "markdown",
      "metadata": {
        "id": "q0RMigBwrmZ4"
      },
      "source": [
        "## Редактирование формата дат"
      ]
    },
    {
      "cell_type": "markdown",
      "metadata": {
        "id": "3B3P0qM-D8l2"
      },
      "source": [
        "Даты в каждом корупсе были заданы разным способом, произведем извлечение года публикации и обновим информационный датафрейм."
      ]
    },
    {
      "cell_type": "code",
      "metadata": {
        "id": "HoxpldRZmlAS"
      },
      "source": [
        "def date_format(text):\n",
        "  t = ''.join([c if c.isdigit() else ' ' for c in str(text)])\n",
        "  t = [c for c in t.split()]\n",
        "  d = [len(c) for c in t]\n",
        "  if 4 in d:\n",
        "    return t[d.index(4)]\n",
        "  else:\n",
        "    return None"
      ],
      "execution_count": null,
      "outputs": []
    },
    {
      "cell_type": "code",
      "metadata": {
        "id": "SzoPOC6snMBR"
      },
      "source": [
        "info_df['date_first'] = info_df['date_first'].apply(lambda x: date_format(x) if x else None)\n",
        "info_df['date_last'] = info_df['date_last'].apply(lambda x: date_format(x) if x else None)"
      ],
      "execution_count": null,
      "outputs": []
    },
    {
      "cell_type": "code",
      "metadata": {
        "colab": {
          "base_uri": "https://localhost:8080/",
          "height": 857
        },
        "id": "tBpZNYG_pOzX",
        "outputId": "e7e6e73e-aa54-4cd1-9b8b-e8f889b76122"
      },
      "source": [
        "info_df"
      ],
      "execution_count": null,
      "outputs": [
        {
          "output_type": "execute_result",
          "data": {
            "text/html": [
              "<div>\n",
              "<style scoped>\n",
              "    .dataframe tbody tr th:only-of-type {\n",
              "        vertical-align: middle;\n",
              "    }\n",
              "\n",
              "    .dataframe tbody tr th {\n",
              "        vertical-align: top;\n",
              "    }\n",
              "\n",
              "    .dataframe thead th {\n",
              "        text-align: right;\n",
              "    }\n",
              "</style>\n",
              "<table border=\"1\" class=\"dataframe\">\n",
              "  <thead>\n",
              "    <tr style=\"text-align: right;\">\n",
              "      <th></th>\n",
              "      <th>collection</th>\n",
              "      <th>source</th>\n",
              "      <th>n_docs</th>\n",
              "      <th>n_unique_tokens</th>\n",
              "      <th>avg_doc_len</th>\n",
              "      <th>date_first</th>\n",
              "      <th>date_last</th>\n",
              "    </tr>\n",
              "  </thead>\n",
              "  <tbody>\n",
              "    <tr>\n",
              "      <th>0</th>\n",
              "      <td>regional</td>\n",
              "      <td>рассвет-якшур-бодья</td>\n",
              "      <td>2375</td>\n",
              "      <td>23986</td>\n",
              "      <td>213.685895</td>\n",
              "      <td>2020</td>\n",
              "      <td>2015</td>\n",
              "    </tr>\n",
              "    <tr>\n",
              "      <th>1</th>\n",
              "      <td>regional</td>\n",
              "      <td>Советская Адыгея</td>\n",
              "      <td>318</td>\n",
              "      <td>7360</td>\n",
              "      <td>168.182390</td>\n",
              "      <td>2020</td>\n",
              "      <td>2020</td>\n",
              "    </tr>\n",
              "    <tr>\n",
              "      <th>2</th>\n",
              "      <td>regional</td>\n",
              "      <td>Газета_Юга</td>\n",
              "      <td>9022</td>\n",
              "      <td>55739</td>\n",
              "      <td>206.276768</td>\n",
              "      <td>2019</td>\n",
              "      <td>2002</td>\n",
              "    </tr>\n",
              "    <tr>\n",
              "      <th>3</th>\n",
              "      <td>regional</td>\n",
              "      <td>Молодой_Коммунар</td>\n",
              "      <td>551</td>\n",
              "      <td>7240</td>\n",
              "      <td>99.431942</td>\n",
              "      <td>None</td>\n",
              "      <td>None</td>\n",
              "    </tr>\n",
              "    <tr>\n",
              "      <th>4</th>\n",
              "      <td>regional</td>\n",
              "      <td>Волгоградская_Правда</td>\n",
              "      <td>79928</td>\n",
              "      <td>159873</td>\n",
              "      <td>176.878428</td>\n",
              "      <td>2020</td>\n",
              "      <td>2020</td>\n",
              "    </tr>\n",
              "    <tr>\n",
              "      <th>5</th>\n",
              "      <td>regional</td>\n",
              "      <td>Вперед</td>\n",
              "      <td>4396</td>\n",
              "      <td>34208</td>\n",
              "      <td>235.225205</td>\n",
              "      <td>2020</td>\n",
              "      <td>2017</td>\n",
              "    </tr>\n",
              "    <tr>\n",
              "      <th>6</th>\n",
              "      <td>regional</td>\n",
              "      <td>Авангард</td>\n",
              "      <td>3380</td>\n",
              "      <td>35271</td>\n",
              "      <td>272.137278</td>\n",
              "      <td>2010</td>\n",
              "      <td>2015</td>\n",
              "    </tr>\n",
              "    <tr>\n",
              "      <th>7</th>\n",
              "      <td>regional</td>\n",
              "      <td>Красное_Прикамье</td>\n",
              "      <td>4432</td>\n",
              "      <td>38848</td>\n",
              "      <td>186.245036</td>\n",
              "      <td>2018</td>\n",
              "      <td>2010</td>\n",
              "    </tr>\n",
              "    <tr>\n",
              "      <th>8</th>\n",
              "      <td>regional</td>\n",
              "      <td>Сельская правда</td>\n",
              "      <td>14506</td>\n",
              "      <td>52114</td>\n",
              "      <td>226.485592</td>\n",
              "      <td>2018</td>\n",
              "      <td>2010</td>\n",
              "    </tr>\n",
              "    <tr>\n",
              "      <th>9</th>\n",
              "      <td>regional</td>\n",
              "      <td>Вечерний_Челябинск</td>\n",
              "      <td>19986</td>\n",
              "      <td>56353</td>\n",
              "      <td>131.509407</td>\n",
              "      <td>2020</td>\n",
              "      <td>None</td>\n",
              "    </tr>\n",
              "    <tr>\n",
              "      <th>10</th>\n",
              "      <td>regional</td>\n",
              "      <td>Кабардино-Балкарская_Правда</td>\n",
              "      <td>5496</td>\n",
              "      <td>39611</td>\n",
              "      <td>194.663028</td>\n",
              "      <td>2020</td>\n",
              "      <td>2018</td>\n",
              "    </tr>\n",
              "    <tr>\n",
              "      <th>11</th>\n",
              "      <td>regional</td>\n",
              "      <td>Риск</td>\n",
              "      <td>6296</td>\n",
              "      <td>72869</td>\n",
              "      <td>524.876588</td>\n",
              "      <td>2002</td>\n",
              "      <td>2015</td>\n",
              "    </tr>\n",
              "    <tr>\n",
              "      <th>12</th>\n",
              "      <td>regional</td>\n",
              "      <td>Вестник_района</td>\n",
              "      <td>3145</td>\n",
              "      <td>16424</td>\n",
              "      <td>74.802544</td>\n",
              "      <td>2012</td>\n",
              "      <td>2012</td>\n",
              "    </tr>\n",
              "    <tr>\n",
              "      <th>13</th>\n",
              "      <td>regional</td>\n",
              "      <td>Благодарненские_вести</td>\n",
              "      <td>3087</td>\n",
              "      <td>29932</td>\n",
              "      <td>263.563654</td>\n",
              "      <td>2020</td>\n",
              "      <td>2013</td>\n",
              "    </tr>\n",
              "    <tr>\n",
              "      <th>14</th>\n",
              "      <td>regional</td>\n",
              "      <td>Вечерний_Ставрополь</td>\n",
              "      <td>234</td>\n",
              "      <td>14015</td>\n",
              "      <td>394.747863</td>\n",
              "      <td>2020</td>\n",
              "      <td>2019</td>\n",
              "    </tr>\n",
              "    <tr>\n",
              "      <th>15</th>\n",
              "      <td>regional</td>\n",
              "      <td>Чебоксарские_новости</td>\n",
              "      <td>16895</td>\n",
              "      <td>55492</td>\n",
              "      <td>218.659781</td>\n",
              "      <td>2017</td>\n",
              "      <td>2013</td>\n",
              "    </tr>\n",
              "    <tr>\n",
              "      <th>16</th>\n",
              "      <td>regional</td>\n",
              "      <td>Починковский_район</td>\n",
              "      <td>1939</td>\n",
              "      <td>18810</td>\n",
              "      <td>168.720990</td>\n",
              "      <td>2020</td>\n",
              "      <td>2012</td>\n",
              "    </tr>\n",
              "    <tr>\n",
              "      <th>17</th>\n",
              "      <td>regional</td>\n",
              "      <td>Гжатский_вестник</td>\n",
              "      <td>303</td>\n",
              "      <td>11313</td>\n",
              "      <td>262.534653</td>\n",
              "      <td>2020</td>\n",
              "      <td>2015</td>\n",
              "    </tr>\n",
              "    <tr>\n",
              "      <th>18</th>\n",
              "      <td>regional</td>\n",
              "      <td>Курские_Городские_Известия</td>\n",
              "      <td>9917</td>\n",
              "      <td>24637</td>\n",
              "      <td>58.837653</td>\n",
              "      <td>2020</td>\n",
              "      <td>2016</td>\n",
              "    </tr>\n",
              "    <tr>\n",
              "      <th>19</th>\n",
              "      <td>regional</td>\n",
              "      <td>Молодой_Коммунар_Тула</td>\n",
              "      <td>42881</td>\n",
              "      <td>101243</td>\n",
              "      <td>140.494298</td>\n",
              "      <td>2020</td>\n",
              "      <td>2016</td>\n",
              "    </tr>\n",
              "    <tr>\n",
              "      <th>20</th>\n",
              "      <td>regional</td>\n",
              "      <td>Вечерний_Волгоград</td>\n",
              "      <td>39704</td>\n",
              "      <td>74842</td>\n",
              "      <td>115.947713</td>\n",
              "      <td>2020</td>\n",
              "      <td>2011</td>\n",
              "    </tr>\n",
              "    <tr>\n",
              "      <th>21</th>\n",
              "      <td>regional</td>\n",
              "      <td>Светлый_Путь</td>\n",
              "      <td>1740</td>\n",
              "      <td>24450</td>\n",
              "      <td>261.228736</td>\n",
              "      <td>2010</td>\n",
              "      <td>2020</td>\n",
              "    </tr>\n",
              "    <tr>\n",
              "      <th>22</th>\n",
              "      <td>regional</td>\n",
              "      <td>Сафоновская_Правда</td>\n",
              "      <td>1919</td>\n",
              "      <td>25934</td>\n",
              "      <td>133.362168</td>\n",
              "      <td>2020</td>\n",
              "      <td>2013</td>\n",
              "    </tr>\n",
              "    <tr>\n",
              "      <th>23</th>\n",
              "      <td>regional</td>\n",
              "      <td>Можгинские_Вести</td>\n",
              "      <td>2632</td>\n",
              "      <td>26761</td>\n",
              "      <td>229.516337</td>\n",
              "      <td>2020</td>\n",
              "      <td>2019</td>\n",
              "    </tr>\n",
              "    <tr>\n",
              "      <th>24</th>\n",
              "      <td>central</td>\n",
              "      <td>nplus1-2018</td>\n",
              "      <td>7949</td>\n",
              "      <td>104801</td>\n",
              "      <td>219.936470</td>\n",
              "      <td>2017</td>\n",
              "      <td>2018</td>\n",
              "    </tr>\n",
              "    <tr>\n",
              "      <th>25</th>\n",
              "      <td>central</td>\n",
              "      <td>gazeta_ru-2018</td>\n",
              "      <td>22174</td>\n",
              "      <td>107475</td>\n",
              "      <td>266.850455</td>\n",
              "      <td>2018</td>\n",
              "      <td>2016</td>\n",
              "    </tr>\n",
              "    <tr>\n",
              "      <th>26</th>\n",
              "      <td>central</td>\n",
              "      <td>rbc_2018_2</td>\n",
              "      <td>170880</td>\n",
              "      <td>184073</td>\n",
              "      <td>166.991011</td>\n",
              "      <td>None</td>\n",
              "      <td>None</td>\n",
              "    </tr>\n",
              "  </tbody>\n",
              "</table>\n",
              "</div>"
            ],
            "text/plain": [
              "   collection                       source  ... date_first date_last\n",
              "0    regional          рассвет-якшур-бодья  ...       2020      2015\n",
              "1    regional             Советская Адыгея  ...       2020      2020\n",
              "2    regional                   Газета_Юга  ...       2019      2002\n",
              "3    regional            Молодой_Коммунар  ...       None      None\n",
              "4    regional         Волгоградская_Правда  ...       2020      2020\n",
              "5    regional                       Вперед  ...       2020      2017\n",
              "6    regional                     Авангард  ...       2010      2015\n",
              "7    regional             Красное_Прикамье  ...       2018      2010\n",
              "8    regional              Сельская правда  ...       2018      2010\n",
              "9    regional          Вечерний_Челябинск  ...       2020      None\n",
              "10   regional  Кабардино-Балкарская_Правда  ...       2020      2018\n",
              "11   regional                         Риск  ...       2002      2015\n",
              "12   regional              Вестник_района  ...       2012      2012\n",
              "13   regional        Благодарненские_вести  ...       2020      2013\n",
              "14   regional         Вечерний_Ставрополь  ...       2020      2019\n",
              "15   regional         Чебоксарские_новости  ...       2017      2013\n",
              "16   regional         Починковский_район  ...       2020      2012\n",
              "17   regional            Гжатский_вестник  ...       2020      2015\n",
              "18   regional   Курские_Городские_Известия  ...       2020      2016\n",
              "19   regional       Молодой_Коммунар_Тула  ...       2020      2016\n",
              "20   regional          Вечерний_Волгоград  ...       2020      2011\n",
              "21   regional                Светлый_Путь  ...       2010      2020\n",
              "22   regional           Сафоновская_Правда  ...       2020      2013\n",
              "23   regional             Можгинские_Вести  ...       2020      2019\n",
              "24    central                  nplus1-2018  ...       2017      2018\n",
              "25    central               gazeta_ru-2018  ...       2018      2016\n",
              "26    central                   rbc_2018_2  ...       None      None\n",
              "\n",
              "[27 rows x 7 columns]"
            ]
          },
          "metadata": {
            "tags": []
          },
          "execution_count": 43
        }
      ]
    },
    {
      "cell_type": "code",
      "metadata": {
        "id": "KI1Lsma6t02s"
      },
      "source": [
        "filename = join('data_info.csv')\n",
        "info_df.to_csv(filename, index=False)"
      ],
      "execution_count": null,
      "outputs": []
    },
    {
      "cell_type": "markdown",
      "metadata": {
        "id": "Qqu8KRLarcWP"
      },
      "source": [
        "## Исследование коллекции"
      ]
    },
    {
      "cell_type": "code",
      "metadata": {
        "colab": {
          "base_uri": "https://localhost:8080/"
        },
        "id": "Fa8rGZu5xRrd",
        "outputId": "71f9b136-aeb9-4aa1-be03-35e1b880c6b9"
      },
      "source": [
        "print('Количество региональных источников: {}'.format(info_df[info_df['collection']=='regional'].shape[0]))\n",
        "print('Список региональных источников: {}'.format(',\\n'.join(list(info_df[info_df['collection']=='regional']['source'].unique()))))"
      ],
      "execution_count": null,
      "outputs": [
        {
          "output_type": "stream",
          "text": [
            "Количество региональных источников: 24\n",
            "Список региональных источников: рассвет-якшур-бодья,\n",
            "Советская Адыгея,\n",
            "Газета_Юга,\n",
            "Молодой_Коммунар,\n",
            "Волгоградская_Правда,\n",
            "Вперед,\n",
            "Авангард,\n",
            "Красное_Прикамье,\n",
            "Сельская правда,\n",
            "Вечерний_Челябинск,\n",
            "Кабардино-Балкарская_Правда,\n",
            "Риск,\n",
            "Вестник_района,\n",
            "Благодарненские_вести,\n",
            "Вечерний_Ставрополь,\n",
            "Чебоксарские_новости,\n",
            "Починковский_район,\n",
            "Гжатский_вестник,\n",
            "Курские_Городские_Известия,\n",
            "Молодой_Коммунар_Тула,\n",
            "Вечерний_Волгоград,\n",
            "Светлый_Путь,\n",
            "Сафоновская_Правда,\n",
            "Можгинские_Вести\n"
          ],
          "name": "stdout"
        }
      ]
    },
    {
      "cell_type": "code",
      "metadata": {
        "colab": {
          "base_uri": "https://localhost:8080/"
        },
        "id": "PilSXFzVbSRs",
        "outputId": "91d5ce7d-7fb1-4b83-a4cf-40af1cc8fa15"
      },
      "source": [
        "print('Количество центральных источников: {}'.format(info_df[info_df['collection']=='central'].shape[0]))\n",
        "print('Список центральных источников: {}'.format(',\\n'.join(list(info_df[info_df['collection']=='central']['source'].unique()))))"
      ],
      "execution_count": null,
      "outputs": [
        {
          "output_type": "stream",
          "text": [
            "Количество центральных источников: 3\n",
            "Список центральных источников: nplus1-2018,\n",
            "gazeta_ru-2018,\n",
            "rbc_2018_2\n"
          ],
          "name": "stdout"
        }
      ]
    },
    {
      "cell_type": "code",
      "metadata": {
        "colab": {
          "base_uri": "https://localhost:8080/"
        },
        "id": "bkhKQWH2bjE7",
        "outputId": "d7474075-99ed-4218-db8f-d742760a000e"
      },
      "source": [
        "reg_dates = list(map(int, info_df[info_df['collection']=='regional']['date_first'].dropna().unique()))\n",
        "reg_dates.extend(list(map(int,info_df[info_df['collection']=='regional']['date_last'].dropna().unique())))\n",
        "print('Региональные новости с {} по {} год'.format(min(reg_dates), max(reg_dates)))\n",
        "c_dates = list(map(int, info_df[info_df['collection']=='central']['date_first'].dropna().unique()))\n",
        "c_dates.extend(list(map(int,info_df[info_df['collection']=='central']['date_last'].dropna().unique())))\n",
        "print('Центральные новости с {} по {} год'.format(min(c_dates), max(c_dates)))"
      ],
      "execution_count": null,
      "outputs": [
        {
          "output_type": "stream",
          "text": [
            "Региональные новости с 2002 по 2020 год\n",
            "Центральные новости с 2016 по 2018 год\n"
          ],
          "name": "stdout"
        }
      ]
    },
    {
      "cell_type": "code",
      "metadata": {
        "colab": {
          "base_uri": "https://localhost:8080/",
          "height": 922
        },
        "id": "EWIPfVuCj5hv",
        "outputId": "61f74713-ee51-4fdc-a9a3-c9098acd549f"
      },
      "source": [
        "plt.figure(figsize=(16,12))\n",
        "\n",
        "ax = plt.subplot(111)    \n",
        "ax.spines[\"top\"].set_visible(False)    \n",
        "ax.spines[\"bottom\"].set_visible(False)    \n",
        "ax.spines[\"right\"].set_visible(False)    \n",
        "ax.spines[\"left\"].set_visible(False) \n",
        "\n",
        "color = ['dimgrey' if c=='regional' else 'darkgrey' for c in info_df.sort_values(by=['n_docs'])['collection']]\n",
        "plt.bar(info_df.sort_values(by=['n_docs'])['source'], info_df.sort_values(by=['n_docs'])['n_docs'], color=color)\n",
        "\n",
        "plt.title('Размеры корпусов', fontsize=12)\n",
        "plt.xticks(info_df.sort_values(by=['n_docs'])['source'], fontsize=12, rotation=90) \n",
        "plt.xlabel('Источники', fontsize=10)\n",
        "plt.ylabel('Значения длины корпуса в документах', fontsize=10)\n",
        "plt.savefig('N_docs.png')\n",
        "plt.show()"
      ],
      "execution_count": null,
      "outputs": [
        {
          "output_type": "display_data",
          "data": {
            "image/png": "[encoded data removed]",
            "text/plain": [
              "<Figure size 1152x864 with 1 Axes>"
            ]
          },
          "metadata": {
            "tags": [],
            "needs_background": "light"
          }
        }
      ]
    },
    {
      "cell_type": "code",
      "metadata": {
        "colab": {
          "base_uri": "https://localhost:8080/",
          "height": 922
        },
        "id": "SOCchKc4n_V1",
        "outputId": "28e90bba-985d-4376-a22d-fcce5e987a0e"
      },
      "source": [
        "plt.figure(figsize=(16,12))\n",
        "\n",
        "ax = plt.subplot(111)    \n",
        "ax.spines[\"top\"].set_visible(False)    \n",
        "ax.spines[\"bottom\"].set_visible(False)    \n",
        "ax.spines[\"right\"].set_visible(False)    \n",
        "ax.spines[\"left\"].set_visible(False) \n",
        "\n",
        "color = ['dimgrey' if c=='regional' else 'darkgrey' for c in info_df.sort_values(by=['avg_doc_len'])['collection']]\n",
        "plt.bar(info_df.sort_values(by=['avg_doc_len'])['source'], info_df.sort_values(by=['avg_doc_len'])['avg_doc_len'], color=color)\n",
        "\n",
        "plt.title('Средние длины документов', fontsize=12)\n",
        "plt.xticks(info_df.sort_values(by=['avg_doc_len'])['source'], fontsize=12, rotation=90) \n",
        "plt.xlabel('Источники', fontsize=10)\n",
        "plt.ylabel('Значения средней длины документа', fontsize=10)\n",
        "plt.savefig('Avg_doc_len.png')\n",
        "plt.show()"
      ],
      "execution_count": null,
      "outputs": [
        {
          "output_type": "display_data",
          "data": {
            "image/png": "[encoded data removed]",
            "text/plain": [
              "<Figure size 1152x864 with 1 Axes>"
            ]
          },
          "metadata": {
            "tags": [],
            "needs_background": "light"
          }
        }
      ]
    },
    {
      "cell_type": "code",
      "metadata": {
        "colab": {
          "base_uri": "https://localhost:8080/"
        },
        "id": "KxuYOYVHoesD",
        "outputId": "258fbc4d-729e-4049-ad08-0f3eb0598f66"
      },
      "source": [
        "reg_n_docs = np.sum(np.array(info_df[info_df['collection']=='regional']['n_docs']))\n",
        "c_n_docs = np.sum(np.array(info_df[info_df['collection']=='central']['n_docs']))\n",
        "\n",
        "reg_n_tokens = np.dot(np.array(info_df[info_df['collection']=='regional']['avg_doc_len']),\n",
        "                         np.array(info_df[info_df['collection']=='regional']['n_docs']))\n",
        "c_n_tokens = np.dot(np.array(info_df[info_df['collection']=='central']['avg_doc_len']),\n",
        "                         np.array(info_df[info_df['collection']=='central']['n_docs']))\n",
        "\n",
        "reg_avg_doc_len = reg_n_tokens / reg_n_docs\n",
        "c_avg_doc_len = c_n_tokens / c_n_docs\n",
        "\n",
        "\n",
        "print('Количество документов в региональной коллекции: {}'.format(reg_n_docs))\n",
        "print('Размер региональной коллекции в токенах: {}'.format(int(np.round(reg_n_tokens,0))))\n",
        "print('Средняя длина документов в региональной коллекции: {}'.format(np.round(reg_avg_doc_len, 3)), end='\\n\\n')\n",
        "\n",
        "print('Количество документов в центральной коллекции: {}'.format(c_n_docs))\n",
        "print('Размер центральной коллекции в токенах: {}'.format(int(np.round(c_n_tokens,0))))\n",
        "print('Средняя длина документов в центральной коллекции: {}'.format(np.round(c_avg_doc_len, 3)))"
      ],
      "execution_count": null,
      "outputs": [
        {
          "output_type": "stream",
          "text": [
            "Количество документов в региональной коллекции: 275082\n",
            "Размер региональной коллекции в токенах: 47450256\n",
            "Средняя длина документов в региональной коллекции: 172.495\n",
            "\n",
            "Количество документов в центральной коллекции: 201003\n",
            "Размер центральной коллекции в токенах: 36200841\n",
            "Средняя длина документов в центральной коллекции: 180.101\n"
          ],
          "name": "stdout"
        }
      ]
    }
  ]
}